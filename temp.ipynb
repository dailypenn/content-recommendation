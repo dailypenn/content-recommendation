{
 "cells": [
  {
   "cell_type": "code",
   "execution_count": 41,
   "metadata": {},
   "outputs": [
    {
     "name": "stdout",
     "output_type": "stream",
     "text": [
      "20\n",
      "20\n",
      "16\n",
      "4\n"
     ]
    }
   ],
   "source": [
    "import collections\n",
    "import re\n",
    "import requests\n",
    "from gensim.models import Doc2Vec\n",
    "from gensim.models.doc2vec import TaggedDocument\n",
    "from gensim.utils import simple_preprocess\n",
    "from sklearn.model_selection import train_test_split\n",
    "\n",
    "\n",
    "# function to make TaggedDocuments for training. set tags to article name (can also use id)\n",
    "def create_tagged_document(article, tags):\n",
    "    return TaggedDocument(words=simple_preprocess(article), tags=tags)\n",
    "\n",
    "#load json files\n",
    "SECTIONS = ['news']\n",
    "PAGES = 1\n",
    "ids = []\n",
    "\n",
    "def clean_text(txt):\n",
    "    clean = re.compile('(<.*?>)|(&nbsp;)|(&amp;)')\n",
    "    return re.sub(clean, '', txt)\n",
    "\n",
    "tagged_articles = []\n",
    "\n",
    "def scrape_data():\n",
    "    for section in SECTIONS:\n",
    "       for page in range(PAGES):\n",
    "           resp = requests.get(f'https://www.thedp.com/section/{section}.json?page={page + 1}').json()\n",
    "           curr_page = resp['articles']\n",
    "           for article in curr_page:\n",
    "                cleaned_article = clean_text(article['content'])\n",
    "                tagged_articles.append(create_tagged_document(cleaned_article, article['id']))\n",
    "                ids.append(article['id'])\n",
    "\n",
    "scrape_data()\n",
    "print(len(tagged_articles))\n",
    "print(len(ids))\n",
    "# split data\n",
    "train_articles, test_articles = train_test_split(tagged_articles, test_size=0.2)\n",
    "\n",
    "# train the Doc2Vec - need to tweak vector_size hyperparameter\n",
    "model = Doc2Vec(vector_size=50, min_count=3, epochs=30)\n",
    "model.build_vocab(train_articles)\n",
    "model.train(tagged_articles, total_examples=model.corpus_count, epochs=model.epochs)\n",
    "\n",
    "# are we just loading the tagged vectors to the db, or should we run like KNN or KMeans ML model?\n",
    "# print(train_articles)\n",
    "train_vectors = [model.infer_vector(article.words) for article in train_articles]\n",
    "\n",
    "test_vectors = [model.infer_vector(article.words) for article in test_articles]\n",
    "\n",
    "print(len(train_vectors))\n",
    "print(len(test_vectors))"
   ]
  },
  {
   "cell_type": "code",
   "execution_count": null,
   "metadata": {},
   "outputs": [],
   "source": []
  },
  {
   "cell_type": "code",
   "execution_count": 44,
   "metadata": {},
   "outputs": [
    {
     "name": "stdout",
     "output_type": "stream",
     "text": [
      "<class 'numpy.ndarray'>\n"
     ]
    },
    {
     "ename": "ValueError",
     "evalue": "0 is not in list",
     "output_type": "error",
     "traceback": [
      "\u001b[0;31m---------------------------------------------------------------------------\u001b[0m",
      "\u001b[0;31mValueError\u001b[0m                                Traceback (most recent call last)",
      "\u001b[1;32m/Users/michellechang/Desktop/content-recommendation/temp.ipynb Cell 3\u001b[0m in \u001b[0;36m<cell line: 4>\u001b[0;34m()\u001b[0m\n\u001b[1;32m      <a href='vscode-notebook-cell:/Users/michellechang/Desktop/content-recommendation/temp.ipynb#ch0000001?line=5'>6</a>\u001b[0m \u001b[39mprint\u001b[39m(\u001b[39mtype\u001b[39m(inferred_vector))\n\u001b[1;32m      <a href='vscode-notebook-cell:/Users/michellechang/Desktop/content-recommendation/temp.ipynb#ch0000001?line=6'>7</a>\u001b[0m sims \u001b[39m=\u001b[39m model\u001b[39m.\u001b[39mdv\u001b[39m.\u001b[39mmost_similar(inferred_vector, topn\u001b[39m=\u001b[39m\u001b[39mlen\u001b[39m(model\u001b[39m.\u001b[39mdv))\n\u001b[0;32m----> <a href='vscode-notebook-cell:/Users/michellechang/Desktop/content-recommendation/temp.ipynb#ch0000001?line=7'>8</a>\u001b[0m rank \u001b[39m=\u001b[39m [docid \u001b[39mfor\u001b[39;49;00m docid, sim \u001b[39min\u001b[39;49;00m sims]\u001b[39m.\u001b[39;49mindex(idx)\n\u001b[1;32m     <a href='vscode-notebook-cell:/Users/michellechang/Desktop/content-recommendation/temp.ipynb#ch0000001?line=9'>10</a>\u001b[0m ranks\u001b[39m.\u001b[39mappend(rank)\n\u001b[1;32m     <a href='vscode-notebook-cell:/Users/michellechang/Desktop/content-recommendation/temp.ipynb#ch0000001?line=10'>11</a>\u001b[0m second_ranks\u001b[39m.\u001b[39mappend(sims[\u001b[39m1\u001b[39m])\n",
      "\u001b[0;31mValueError\u001b[0m: 0 is not in list"
     ]
    }
   ],
   "source": [
    "import collections\n",
    "ranks = []\n",
    "second_ranks = []\n",
    "for idx, doc_id in enumerate(ids):\n",
    "    inferred_vector = model.infer_vector(train_articles[idx].words)\n",
    "    print(type(inferred_vector))\n",
    "    sims = model.dv.most_similar(inferred_vector, topn=len(model.dv))\n",
    "    rank = [docid for docid, sim in sims].index(idx)\n",
    "\n",
    "    ranks.append(rank)\n",
    "    second_ranks.append(sims[1])\n",
    "\n",
    "counter = collections.Counter(ranks)\n",
    "print(counter)"
   ]
  },
  {
   "cell_type": "code",
   "execution_count": null,
   "metadata": {},
   "outputs": [],
   "source": []
  }
 ],
 "metadata": {
  "kernelspec": {
   "display_name": "Python 3.9.12 ('base')",
   "language": "python",
   "name": "python3"
  },
  "language_info": {
   "codemirror_mode": {
    "name": "ipython",
    "version": 3
   },
   "file_extension": ".py",
   "mimetype": "text/x-python",
   "name": "python",
   "nbconvert_exporter": "python",
   "pygments_lexer": "ipython3",
   "version": "3.9.12"
  },
  "orig_nbformat": 4,
  "vscode": {
   "interpreter": {
    "hash": "c91ad12cff2ee1f53ac5a81526ec2e7ab67c5dc551a97b4156eb68e18677109d"
   }
  }
 },
 "nbformat": 4,
 "nbformat_minor": 2
}
