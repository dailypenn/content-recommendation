{
 "cells": [
  {
   "cell_type": "code",
   "execution_count": 2,
   "metadata": {},
   "outputs": [
    {
     "name": "stdout",
     "output_type": "stream",
     "text": [
      "0\n"
     ]
    },
    {
     "ename": "ValueError",
     "evalue": "With n_samples=0, test_size=0.2 and train_size=None, the resulting train set will be empty. Adjust any of the aforementioned parameters.",
     "output_type": "error",
     "traceback": [
      "\u001b[0;31m---------------------------------------------------------------------------\u001b[0m",
      "\u001b[0;31mValueError\u001b[0m                                Traceback (most recent call last)",
      "\u001b[1;32m/Users/michellechang/Desktop/content-recommendation/temp.ipynb Cell 1\u001b[0m in \u001b[0;36m<cell line: 37>\u001b[0;34m()\u001b[0m\n\u001b[1;32m     <a href='vscode-notebook-cell:/Users/michellechang/Desktop/content-recommendation/temp.ipynb#ch0000000?line=34'>35</a>\u001b[0m \u001b[39mprint\u001b[39m(\u001b[39mlen\u001b[39m(tagged_articles))\n\u001b[1;32m     <a href='vscode-notebook-cell:/Users/michellechang/Desktop/content-recommendation/temp.ipynb#ch0000000?line=35'>36</a>\u001b[0m \u001b[39m# split data\u001b[39;00m\n\u001b[0;32m---> <a href='vscode-notebook-cell:/Users/michellechang/Desktop/content-recommendation/temp.ipynb#ch0000000?line=36'>37</a>\u001b[0m train_articles, test_articles \u001b[39m=\u001b[39m train_test_split(tagged_articles, test_size\u001b[39m=\u001b[39;49m\u001b[39m0.2\u001b[39;49m)\n\u001b[1;32m     <a href='vscode-notebook-cell:/Users/michellechang/Desktop/content-recommendation/temp.ipynb#ch0000000?line=38'>39</a>\u001b[0m \u001b[39m# train the Doc2Vec - need to tweak vector_size hyperparameter\u001b[39;00m\n\u001b[1;32m     <a href='vscode-notebook-cell:/Users/michellechang/Desktop/content-recommendation/temp.ipynb#ch0000000?line=39'>40</a>\u001b[0m model \u001b[39m=\u001b[39m Doc2Vec(vector_size\u001b[39m=\u001b[39m\u001b[39m50\u001b[39m, min_count\u001b[39m=\u001b[39m\u001b[39m3\u001b[39m, epochs\u001b[39m=\u001b[39m\u001b[39m30\u001b[39m)\n",
      "File \u001b[0;32m~/opt/anaconda3/lib/python3.9/site-packages/sklearn/model_selection/_split.py:2420\u001b[0m, in \u001b[0;36mtrain_test_split\u001b[0;34m(test_size, train_size, random_state, shuffle, stratify, *arrays)\u001b[0m\n\u001b[1;32m   2417\u001b[0m arrays \u001b[39m=\u001b[39m indexable(\u001b[39m*\u001b[39marrays)\n\u001b[1;32m   2419\u001b[0m n_samples \u001b[39m=\u001b[39m _num_samples(arrays[\u001b[39m0\u001b[39m])\n\u001b[0;32m-> 2420\u001b[0m n_train, n_test \u001b[39m=\u001b[39m _validate_shuffle_split(\n\u001b[1;32m   2421\u001b[0m     n_samples, test_size, train_size, default_test_size\u001b[39m=\u001b[39;49m\u001b[39m0.25\u001b[39;49m\n\u001b[1;32m   2422\u001b[0m )\n\u001b[1;32m   2424\u001b[0m \u001b[39mif\u001b[39;00m shuffle \u001b[39mis\u001b[39;00m \u001b[39mFalse\u001b[39;00m:\n\u001b[1;32m   2425\u001b[0m     \u001b[39mif\u001b[39;00m stratify \u001b[39mis\u001b[39;00m \u001b[39mnot\u001b[39;00m \u001b[39mNone\u001b[39;00m:\n",
      "File \u001b[0;32m~/opt/anaconda3/lib/python3.9/site-packages/sklearn/model_selection/_split.py:2098\u001b[0m, in \u001b[0;36m_validate_shuffle_split\u001b[0;34m(n_samples, test_size, train_size, default_test_size)\u001b[0m\n\u001b[1;32m   2095\u001b[0m n_train, n_test \u001b[39m=\u001b[39m \u001b[39mint\u001b[39m(n_train), \u001b[39mint\u001b[39m(n_test)\n\u001b[1;32m   2097\u001b[0m \u001b[39mif\u001b[39;00m n_train \u001b[39m==\u001b[39m \u001b[39m0\u001b[39m:\n\u001b[0;32m-> 2098\u001b[0m     \u001b[39mraise\u001b[39;00m \u001b[39mValueError\u001b[39;00m(\n\u001b[1;32m   2099\u001b[0m         \u001b[39m\"\u001b[39m\u001b[39mWith n_samples=\u001b[39m\u001b[39m{}\u001b[39;00m\u001b[39m, test_size=\u001b[39m\u001b[39m{}\u001b[39;00m\u001b[39m and train_size=\u001b[39m\u001b[39m{}\u001b[39;00m\u001b[39m, the \u001b[39m\u001b[39m\"\u001b[39m\n\u001b[1;32m   2100\u001b[0m         \u001b[39m\"\u001b[39m\u001b[39mresulting train set will be empty. Adjust any of the \u001b[39m\u001b[39m\"\u001b[39m\n\u001b[1;32m   2101\u001b[0m         \u001b[39m\"\u001b[39m\u001b[39maforementioned parameters.\u001b[39m\u001b[39m\"\u001b[39m\u001b[39m.\u001b[39mformat(n_samples, test_size, train_size)\n\u001b[1;32m   2102\u001b[0m     )\n\u001b[1;32m   2104\u001b[0m \u001b[39mreturn\u001b[39;00m n_train, n_test\n",
      "\u001b[0;31mValueError\u001b[0m: With n_samples=0, test_size=0.2 and train_size=None, the resulting train set will be empty. Adjust any of the aforementioned parameters."
     ]
    }
   ],
   "source": [
    "import collections\n",
    "import re\n",
    "import requests\n",
    "from gensim.models import Doc2Vec\n",
    "from gensim.models.doc2vec import TaggedDocument\n",
    "from gensim.utils import simple_preprocess\n",
    "from sklearn.model_selection import train_test_split\n",
    "\n",
    "\n",
    "# function to make TaggedDocuments for training. set tags to article name (can also use id)\n",
    "def create_tagged_document(article):\n",
    "    return TaggedDocument(words=simple_preprocess(article['content']), tags=article['slug'])\n",
    "\n",
    "#load json files\n",
    "SECTIONS = ['news', 'sports', 'opinion']\n",
    "PAGES = 10\n",
    "\n",
    "def clean_text(txt):\n",
    "    clean = re.compile('(<.*?>)|(&nbsp;)|(&amp;)')\n",
    "    return re.sub(clean, '', txt)\n",
    "\n",
    "tagged_articles = []\n",
    "\n",
    "def scrape_data():\n",
    "    for section in SECTIONS:\n",
    "       for page in range(PAGES):\n",
    "           resp = requests.get(f'https://www.thedp.com/section/{section}.json?page={page + 1}').json()\n",
    "           articles = resp['articles']\n",
    "           for article in articles:\n",
    "                cleaned_article = clean_text(article['content'])\n",
    "                print(type(cleaned_article))\n",
    "                tagged_articles.append(create_tagged_document(cleaned_article))\n",
    "\n",
    "print(len(tagged_articles))\n",
    "# split data\n",
    "train_articles, test_articles = train_test_split(tagged_articles, test_size=0.2)\n",
    "\n",
    "# train the Doc2Vec - need to tweak vector_size hyperparameter\n",
    "model = Doc2Vec(vector_size=50, min_count=3, epochs=30)\n",
    "model.build_vocab(train_articles)\n",
    "model.train(tagged_articles, total_examples=model.corpus_count, epochs=model.epochs)\n",
    "\n",
    "# are we just loading the tagged vectors to the db, or should we run like KNN or KMeans ML model?\n",
    "train_vectors = [model.infer_vector(article.words) for article, _ in train_articles]\n",
    "test_vectors = [model.infer_vector(article.words) for article, _ in test_articles]\n",
    "\n",
    "ranks = []\n",
    "second_ranks = []\n",
    "for doc_id in range(len(train_vectors)):\n",
    "    inferred_vector = model.infer_vector(train_vectors[doc_id].words)\n",
    "    sims = model.dv.most_similar([inferred_vector], topn=len(model.dv))\n",
    "    rank = [docid for docid, sim in sims].index(doc_id)\n",
    "    ranks.append(rank)\n",
    "    second_ranks.append(sims[1])\n",
    "\n",
    "counter = collections.Counter(ranks)\n",
    "print(counter)"
   ]
  }
 ],
 "metadata": {
  "kernelspec": {
   "display_name": "Python 3.9.12 ('base')",
   "language": "python",
   "name": "python3"
  },
  "language_info": {
   "codemirror_mode": {
    "name": "ipython",
    "version": 3
   },
   "file_extension": ".py",
   "mimetype": "text/x-python",
   "name": "python",
   "nbconvert_exporter": "python",
   "pygments_lexer": "ipython3",
   "version": "3.9.12"
  },
  "orig_nbformat": 4,
  "vscode": {
   "interpreter": {
    "hash": "c91ad12cff2ee1f53ac5a81526ec2e7ab67c5dc551a97b4156eb68e18677109d"
   }
  }
 },
 "nbformat": 4,
 "nbformat_minor": 2
}
